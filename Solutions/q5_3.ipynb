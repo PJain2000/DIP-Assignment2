{
 "cells": [
  {
   "cell_type": "markdown",
   "metadata": {},
   "source": [
    "### Utilize the observation similar to above to implement an efficient version of a k × k median filter. Generate a plot figure similar to previous question."
   ]
  },
  {
   "cell_type": "code",
   "execution_count": 1,
   "metadata": {},
   "outputs": [],
   "source": [
    "%matplotlib inline\n",
    "\n",
    "import cv2\n",
    "import numpy as np\n",
    "from matplotlib import pyplot as plt\n",
    "import math\n",
    "import time"
   ]
  },
  {
   "cell_type": "code",
   "execution_count": 2,
   "metadata": {},
   "outputs": [],
   "source": [
    "i1 = './A2_resources/inp1.png'\n",
    "\n",
    "img1 = cv2.imread(i1, 0)"
   ]
  },
  {
   "cell_type": "code",
   "execution_count": 3,
   "metadata": {},
   "outputs": [],
   "source": [
    "def im2col(A, block, stepsize=1):\n",
    "    m,n = A.shape\n",
    "    s0, s1 = A.strides    \n",
    "    nrows = m-block[0]+1\n",
    "    ncols = n-block[1]+1\n",
    "    shp = block[0],block[1],nrows,ncols\n",
    "    strd = s0,s1,s0,s1\n",
    "\n",
    "    out_view = np.lib.stride_tricks.as_strided(A, shape=shp, strides=strd)\n",
    "    return out_view.reshape(block[0]*block[1],-1)[:,::stepsize]"
   ]
  },
  {
   "cell_type": "code",
   "execution_count": 4,
   "metadata": {},
   "outputs": [],
   "source": [
    "def median_filter_eff(img, k):\n",
    "    a1, a2 = img.shape\n",
    "\n",
    "    imcol = im2col(img, (a1-k+1,a2-k+1))\n",
    "    y = np.median(imcol, axis = 1)\n",
    "    y = y.reshape(a1-k+1, a2-k+1)\n",
    "    \n",
    "    return y"
   ]
  },
  {
   "cell_type": "code",
   "execution_count": 5,
   "metadata": {},
   "outputs": [],
   "source": [
    "def median_filter(img, k):\n",
    "    output = np.zeros_like(img)\n",
    "    m = math.floor(float(k)/2)\n",
    "\n",
    "    image_padded = np.zeros((img.shape[0] + 2*m, img.shape[1] + 2*m))   \n",
    "    image_padded[m:-m, m:-m] = img\n",
    "\n",
    "    for i in range(img.shape[0]):\n",
    "        for j in range(img.shape[1]):\n",
    "            val = np.median(image_padded[i:i+k,j:j+k])\n",
    "            output[i,j] = val\n",
    "            \n",
    "    \n",
    "    return output"
   ]
  },
  {
   "cell_type": "code",
   "execution_count": null,
   "metadata": {},
   "outputs": [],
   "source": []
  },
  {
   "cell_type": "code",
   "execution_count": 8,
   "metadata": {},
   "outputs": [],
   "source": [
    "k = [3,5,7,9,11,13,15,17,19,21,23,25,27,29,31]\n",
    "arr_median = []\n",
    "arr_eff_median = []\n",
    "\n",
    "for k_val in k:\n",
    "    s1 = time.time()\n",
    "    img2 = median_filter(img1, k_val)\n",
    "    e1 = time.time()\n",
    "    t1 = e1 - s1\n",
    "    arr_median.append(t1)\n",
    "\n",
    "    s2 = time.time()\n",
    "    img3 = median_filter_eff(img1, k_val)\n",
    "    e2 = time.time()\n",
    "    t2 = e2 - s2\n",
    "    arr_eff_median.append(t2)"
   ]
  },
  {
   "cell_type": "code",
   "execution_count": 9,
   "metadata": {},
   "outputs": [
    {
     "data": {
      "image/png": "[encoded data removed]",
      "text/plain": [
       "<Figure size 432x288 with 1 Axes>"
      ]
     },
     "metadata": {
      "needs_background": "light"
     },
     "output_type": "display_data"
    }
   ],
   "source": [
    "plt.plot(k, arr_median, 'g', label='averaging filter')\n",
    "plt.plot(k, arr_eff_median, 'r', label='optimized ')\n",
    "plt.xlabel(\"k\")\n",
    "plt.ylabel(\"Time\")\n",
    "plt.legend()\n",
    "plt.show()"
   ]
  },
  {
   "cell_type": "code",
   "execution_count": null,
   "metadata": {},
   "outputs": [],
   "source": []
  }
 ],
 "metadata": {
  "kernelspec": {
   "display_name": "Python 3",
   "language": "python",
   "name": "python3"
  },
  "language_info": {
   "codemirror_mode": {
    "name": "ipython",
    "version": 3
   },
   "file_extension": ".py",
   "mimetype": "text/x-python",
   "name": "python",
   "nbconvert_exporter": "python",
   "pygments_lexer": "ipython3",
   "version": "3.7.3"
  }
 },
 "nbformat": 4,
 "nbformat_minor": 2
}
