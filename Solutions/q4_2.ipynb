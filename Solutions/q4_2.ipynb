{
 "cells": [
  {
   "cell_type": "markdown",
   "metadata": {},
   "source": [
    "### Repeat the above exercise on suitable images of your choice."
   ]
  },
  {
   "cell_type": "code",
   "execution_count": 20,
   "metadata": {},
   "outputs": [],
   "source": [
    "%matplotlib inline\n",
    "\n",
    "import cv2\n",
    "import numpy as np\n",
    "from matplotlib import pyplot as plt\n",
    "import math"
   ]
  },
  {
   "cell_type": "code",
   "execution_count": 45,
   "metadata": {},
   "outputs": [],
   "source": [
    "i1 = './A2_resources/box.png'\n",
    "\n",
    "img1 = cv2.imread(i1)\n",
    "img1 = img1.astype(np.uint16)"
   ]
  },
  {
   "cell_type": "code",
   "execution_count": 46,
   "metadata": {},
   "outputs": [],
   "source": [
    "def gauss2D(shape,sigma):\n",
    "    m,n = [(ss-1)/2 for ss in shape]\n",
    "    y,x = np.ogrid[-m:m+1,-n:n+1]\n",
    "    h = np.exp( -(x*x + y*y) / (2.*sigma*sigma) )\n",
    "    h[ h < np.finfo(h.dtype).eps*h.max() ] = 0\n",
    "    sumh = h.sum()\n",
    "    if sumh != 0:\n",
    "        h /= sumh\n",
    "    \n",
    "    return h"
   ]
  },
  {
   "cell_type": "code",
   "execution_count": 47,
   "metadata": {},
   "outputs": [],
   "source": [
    "def im2col(A, block, stepsize=1):\n",
    "    m,n = A.shape\n",
    "    s0, s1 = A.strides    \n",
    "    nrows = m-block[0]+1\n",
    "    ncols = n-block[1]+1\n",
    "    shp = block[0],block[1],nrows,ncols\n",
    "    strd = s0,s1,s0,s1\n",
    "\n",
    "    out_view = np.lib.stride_tricks.as_strided(A, shape=shp, strides=strd)\n",
    "    return out_view.reshape(block[0]*block[1],-1)[:,::stepsize]"
   ]
  },
  {
   "cell_type": "code",
   "execution_count": 48,
   "metadata": {},
   "outputs": [],
   "source": [
    "def conv(img, mat):\n",
    "    a1, a2 = img.shape\n",
    "    \n",
    "    b1, b2 = mat.shape\n",
    "    \n",
    "    mat_f = np.array(mat.flatten())\n",
    "    imcol = im2col(img, (a1-b1+1,a2-b2+1))\n",
    "    x = np.multiply(imcol, mat_f)\n",
    "    y = np.sum(x, axis = 1)\n",
    "    y = y.reshape(a1-b1+1, a2-b2+1)\n",
    "    \n",
    "    return y"
   ]
  },
  {
   "cell_type": "code",
   "execution_count": 49,
   "metadata": {},
   "outputs": [],
   "source": [
    "k = 3\n",
    "a = gauss2D((3,3),1)"
   ]
  },
  {
   "cell_type": "code",
   "execution_count": 50,
   "metadata": {},
   "outputs": [],
   "source": [
    "def func(img1, a, k):\n",
    "    if len(img1.shape) == 2:\n",
    "        gauss2 = conv(img1, a)\n",
    "        img1 = img1[0:gauss2.shape[0], 0:gauss2.shape[1]]\n",
    "        img2 = np.clip(((k+1)*img1 - (k)*gauss2), 0, 255)\n",
    "\n",
    "        img1 = img1.astype(np.uint8)\n",
    "        img2 = img2.astype(np.uint8)\n",
    "    else:\n",
    "        b, g, r = cv2.split(img1)\n",
    "        img1 = cv2.merge((r,g,b))\n",
    "\n",
    "        g_b = conv(b, a)\n",
    "        g_g = conv(g, a)\n",
    "        g_r = conv(r, a)\n",
    "\n",
    "        r_b = b[0:g_b.shape[0], 0:g_b.shape[1]]\n",
    "        s_b = np.clip(((k+1)*r_b - (k)*g_b), 0, 255)\n",
    "\n",
    "        r_g = g[0:g_g.shape[0], 0:g_g.shape[1]]\n",
    "        s_g = np.clip(((k+1)*r_g - (k)*g_g), 0, 255)\n",
    "\n",
    "        r_r = r[0:g_r.shape[0], 0:g_r.shape[1]]\n",
    "        s_r = np.clip(((k+1)*r_r - (k)*g_r), 0, 255)\n",
    "\n",
    "        img2 = cv2.merge((s_r,s_g,s_b))\n",
    "\n",
    "        img1 = img1.astype(np.uint8)\n",
    "        img2 = img2.astype(np.uint8)\n",
    "        \n",
    "    return img1, img2"
   ]
  },
  {
   "cell_type": "code",
   "execution_count": 51,
   "metadata": {},
   "outputs": [],
   "source": [
    "output = func(img1, a, k)"
   ]
  },
  {
   "cell_type": "code",
   "execution_count": 52,
   "metadata": {},
   "outputs": [
    {
     "data": {
      "image/png": "[encoded data removed]",
      "text/plain": [
       "<Figure size 432x288 with 2 Axes>"
      ]
     },
     "metadata": {},
     "output_type": "display_data"
    }
   ],
   "source": [
    "plt.subplot(121),plt.imshow(output[0])\n",
    "plt.title('Original'), plt.xticks([]), plt.yticks([])\n",
    "plt.subplot(122),plt.imshow(output[1])\n",
    "plt.title('Sharpened'), plt.xticks([]), plt.yticks([])\n",
    "plt.show()"
   ]
  },
  {
   "cell_type": "code",
   "execution_count": null,
   "metadata": {},
   "outputs": [],
   "source": []
  }
 ],
 "metadata": {
  "kernelspec": {
   "display_name": "Python 3",
   "language": "python",
   "name": "python3"
  },
  "language_info": {
   "codemirror_mode": {
    "name": "ipython",
    "version": 3
   },
   "file_extension": ".py",
   "mimetype": "text/x-python",
   "name": "python",
   "nbconvert_exporter": "python",
   "pygments_lexer": "ipython3",
   "version": "3.7.3"
  }
 },
 "nbformat": 4,
 "nbformat_minor": 2
}
